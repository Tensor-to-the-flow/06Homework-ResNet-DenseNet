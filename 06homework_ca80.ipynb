{
  "nbformat": 4,
  "nbformat_minor": 0,
  "metadata": {
    "accelerator": "GPU",
    "colab": {
      "name": "06homework_ca80.ipynb",
      "provenance": [],
      "collapsed_sections": []
    },
    "kernelspec": {
      "display_name": "Python 3",
      "name": "python3"
    },
    "widgets": {
      "application/vnd.jupyter.widget-state+json": {
        "ce4d22c35ada4267a576106fd39a3195": {
          "model_module": "@jupyter-widgets/controls",
          "model_name": "HBoxModel",
          "state": {
            "_view_name": "HBoxView",
            "_dom_classes": [],
            "_model_name": "HBoxModel",
            "_view_module": "@jupyter-widgets/controls",
            "_model_module_version": "1.5.0",
            "_view_count": null,
            "_view_module_version": "1.5.0",
            "box_style": "",
            "layout": "IPY_MODEL_af4e39046c49461d8fbe78c5c96d9c8d",
            "_model_module": "@jupyter-widgets/controls",
            "children": [
              "IPY_MODEL_d4e5274bc2fb42e79e52672b91ba8791",
              "IPY_MODEL_032a837eb0d74535a99fe0075aa2767b"
            ]
          }
        },
        "af4e39046c49461d8fbe78c5c96d9c8d": {
          "model_module": "@jupyter-widgets/base",
          "model_name": "LayoutModel",
          "state": {
            "_view_name": "LayoutView",
            "grid_template_rows": null,
            "right": null,
            "justify_content": null,
            "_view_module": "@jupyter-widgets/base",
            "overflow": null,
            "_model_module_version": "1.2.0",
            "_view_count": null,
            "flex_flow": null,
            "width": null,
            "min_width": null,
            "border": null,
            "align_items": null,
            "bottom": null,
            "_model_module": "@jupyter-widgets/base",
            "top": null,
            "grid_column": null,
            "overflow_y": null,
            "overflow_x": null,
            "grid_auto_flow": null,
            "grid_area": null,
            "grid_template_columns": null,
            "flex": null,
            "_model_name": "LayoutModel",
            "justify_items": null,
            "grid_row": null,
            "max_height": null,
            "align_content": null,
            "visibility": null,
            "align_self": null,
            "height": null,
            "min_height": null,
            "padding": null,
            "grid_auto_rows": null,
            "grid_gap": null,
            "max_width": null,
            "order": null,
            "_view_module_version": "1.2.0",
            "grid_template_areas": null,
            "object_position": null,
            "object_fit": null,
            "grid_auto_columns": null,
            "margin": null,
            "display": null,
            "left": null
          }
        },
        "d4e5274bc2fb42e79e52672b91ba8791": {
          "model_module": "@jupyter-widgets/controls",
          "model_name": "FloatProgressModel",
          "state": {
            "_view_name": "ProgressView",
            "style": "IPY_MODEL_7b06db2faae74b948299d34030493e36",
            "_dom_classes": [],
            "description": "Dl Completed...: 100%",
            "_model_name": "FloatProgressModel",
            "bar_style": "success",
            "max": 1,
            "_view_module": "@jupyter-widgets/controls",
            "_model_module_version": "1.5.0",
            "value": 1,
            "_view_count": null,
            "_view_module_version": "1.5.0",
            "orientation": "horizontal",
            "min": 0,
            "description_tooltip": null,
            "_model_module": "@jupyter-widgets/controls",
            "layout": "IPY_MODEL_5c72181e6d884da69d8d1bbd2de05adf"
          }
        },
        "032a837eb0d74535a99fe0075aa2767b": {
          "model_module": "@jupyter-widgets/controls",
          "model_name": "HTMLModel",
          "state": {
            "_view_name": "HTMLView",
            "style": "IPY_MODEL_f7c1e12d6ef04e9fa2c578c5b7f6d7fd",
            "_dom_classes": [],
            "description": "",
            "_model_name": "HTMLModel",
            "placeholder": "​",
            "_view_module": "@jupyter-widgets/controls",
            "_model_module_version": "1.5.0",
            "value": " 1/1 [00:04&lt;00:00,  4.86s/ url]",
            "_view_count": null,
            "_view_module_version": "1.5.0",
            "description_tooltip": null,
            "_model_module": "@jupyter-widgets/controls",
            "layout": "IPY_MODEL_2360f4c82ca645919aceb44c70ab5b84"
          }
        },
        "7b06db2faae74b948299d34030493e36": {
          "model_module": "@jupyter-widgets/controls",
          "model_name": "ProgressStyleModel",
          "state": {
            "_view_name": "StyleView",
            "_model_name": "ProgressStyleModel",
            "description_width": "initial",
            "_view_module": "@jupyter-widgets/base",
            "_model_module_version": "1.5.0",
            "_view_count": null,
            "_view_module_version": "1.2.0",
            "bar_color": null,
            "_model_module": "@jupyter-widgets/controls"
          }
        },
        "5c72181e6d884da69d8d1bbd2de05adf": {
          "model_module": "@jupyter-widgets/base",
          "model_name": "LayoutModel",
          "state": {
            "_view_name": "LayoutView",
            "grid_template_rows": null,
            "right": null,
            "justify_content": null,
            "_view_module": "@jupyter-widgets/base",
            "overflow": null,
            "_model_module_version": "1.2.0",
            "_view_count": null,
            "flex_flow": null,
            "width": null,
            "min_width": null,
            "border": null,
            "align_items": null,
            "bottom": null,
            "_model_module": "@jupyter-widgets/base",
            "top": null,
            "grid_column": null,
            "overflow_y": null,
            "overflow_x": null,
            "grid_auto_flow": null,
            "grid_area": null,
            "grid_template_columns": null,
            "flex": null,
            "_model_name": "LayoutModel",
            "justify_items": null,
            "grid_row": null,
            "max_height": null,
            "align_content": null,
            "visibility": null,
            "align_self": null,
            "height": null,
            "min_height": null,
            "padding": null,
            "grid_auto_rows": null,
            "grid_gap": null,
            "max_width": null,
            "order": null,
            "_view_module_version": "1.2.0",
            "grid_template_areas": null,
            "object_position": null,
            "object_fit": null,
            "grid_auto_columns": null,
            "margin": null,
            "display": null,
            "left": null
          }
        },
        "f7c1e12d6ef04e9fa2c578c5b7f6d7fd": {
          "model_module": "@jupyter-widgets/controls",
          "model_name": "DescriptionStyleModel",
          "state": {
            "_view_name": "StyleView",
            "_model_name": "DescriptionStyleModel",
            "description_width": "",
            "_view_module": "@jupyter-widgets/base",
            "_model_module_version": "1.5.0",
            "_view_count": null,
            "_view_module_version": "1.2.0",
            "_model_module": "@jupyter-widgets/controls"
          }
        },
        "2360f4c82ca645919aceb44c70ab5b84": {
          "model_module": "@jupyter-widgets/base",
          "model_name": "LayoutModel",
          "state": {
            "_view_name": "LayoutView",
            "grid_template_rows": null,
            "right": null,
            "justify_content": null,
            "_view_module": "@jupyter-widgets/base",
            "overflow": null,
            "_model_module_version": "1.2.0",
            "_view_count": null,
            "flex_flow": null,
            "width": null,
            "min_width": null,
            "border": null,
            "align_items": null,
            "bottom": null,
            "_model_module": "@jupyter-widgets/base",
            "top": null,
            "grid_column": null,
            "overflow_y": null,
            "overflow_x": null,
            "grid_auto_flow": null,
            "grid_area": null,
            "grid_template_columns": null,
            "flex": null,
            "_model_name": "LayoutModel",
            "justify_items": null,
            "grid_row": null,
            "max_height": null,
            "align_content": null,
            "visibility": null,
            "align_self": null,
            "height": null,
            "min_height": null,
            "padding": null,
            "grid_auto_rows": null,
            "grid_gap": null,
            "max_width": null,
            "order": null,
            "_view_module_version": "1.2.0",
            "grid_template_areas": null,
            "object_position": null,
            "object_fit": null,
            "grid_auto_columns": null,
            "margin": null,
            "display": null,
            "left": null
          }
        },
        "9bd208b4fe67425ab5dc5fdf42fb1ac0": {
          "model_module": "@jupyter-widgets/controls",
          "model_name": "HBoxModel",
          "state": {
            "_view_name": "HBoxView",
            "_dom_classes": [],
            "_model_name": "HBoxModel",
            "_view_module": "@jupyter-widgets/controls",
            "_model_module_version": "1.5.0",
            "_view_count": null,
            "_view_module_version": "1.5.0",
            "box_style": "",
            "layout": "IPY_MODEL_fdb2ed609f6141608fdd34f94d258a91",
            "_model_module": "@jupyter-widgets/controls",
            "children": [
              "IPY_MODEL_12b789362cec4cb5b233b3c06a3af4b5",
              "IPY_MODEL_becd67c0f2a244e6a556abff1765c55e"
            ]
          }
        },
        "fdb2ed609f6141608fdd34f94d258a91": {
          "model_module": "@jupyter-widgets/base",
          "model_name": "LayoutModel",
          "state": {
            "_view_name": "LayoutView",
            "grid_template_rows": null,
            "right": null,
            "justify_content": null,
            "_view_module": "@jupyter-widgets/base",
            "overflow": null,
            "_model_module_version": "1.2.0",
            "_view_count": null,
            "flex_flow": null,
            "width": null,
            "min_width": null,
            "border": null,
            "align_items": null,
            "bottom": null,
            "_model_module": "@jupyter-widgets/base",
            "top": null,
            "grid_column": null,
            "overflow_y": null,
            "overflow_x": null,
            "grid_auto_flow": null,
            "grid_area": null,
            "grid_template_columns": null,
            "flex": null,
            "_model_name": "LayoutModel",
            "justify_items": null,
            "grid_row": null,
            "max_height": null,
            "align_content": null,
            "visibility": null,
            "align_self": null,
            "height": null,
            "min_height": null,
            "padding": null,
            "grid_auto_rows": null,
            "grid_gap": null,
            "max_width": null,
            "order": null,
            "_view_module_version": "1.2.0",
            "grid_template_areas": null,
            "object_position": null,
            "object_fit": null,
            "grid_auto_columns": null,
            "margin": null,
            "display": null,
            "left": null
          }
        },
        "12b789362cec4cb5b233b3c06a3af4b5": {
          "model_module": "@jupyter-widgets/controls",
          "model_name": "FloatProgressModel",
          "state": {
            "_view_name": "ProgressView",
            "style": "IPY_MODEL_8b9841e718624f4bad69549d03b2cc5a",
            "_dom_classes": [],
            "description": "Dl Size...: 100%",
            "_model_name": "FloatProgressModel",
            "bar_style": "success",
            "max": 1,
            "_view_module": "@jupyter-widgets/controls",
            "_model_module_version": "1.5.0",
            "value": 1,
            "_view_count": null,
            "_view_module_version": "1.5.0",
            "orientation": "horizontal",
            "min": 0,
            "description_tooltip": null,
            "_model_module": "@jupyter-widgets/controls",
            "layout": "IPY_MODEL_84a11dc2c3234dda854a5a8f874ba65c"
          }
        },
        "becd67c0f2a244e6a556abff1765c55e": {
          "model_module": "@jupyter-widgets/controls",
          "model_name": "HTMLModel",
          "state": {
            "_view_name": "HTMLView",
            "style": "IPY_MODEL_1027957727d540bd9e1a6452f526086c",
            "_dom_classes": [],
            "description": "",
            "_model_name": "HTMLModel",
            "placeholder": "​",
            "_view_module": "@jupyter-widgets/controls",
            "_model_module_version": "1.5.0",
            "value": " 162/162 [00:04&lt;00:00, 33.54 MiB/s]",
            "_view_count": null,
            "_view_module_version": "1.5.0",
            "description_tooltip": null,
            "_model_module": "@jupyter-widgets/controls",
            "layout": "IPY_MODEL_94c592c928ea4f31ad151733131a556a"
          }
        },
        "8b9841e718624f4bad69549d03b2cc5a": {
          "model_module": "@jupyter-widgets/controls",
          "model_name": "ProgressStyleModel",
          "state": {
            "_view_name": "StyleView",
            "_model_name": "ProgressStyleModel",
            "description_width": "initial",
            "_view_module": "@jupyter-widgets/base",
            "_model_module_version": "1.5.0",
            "_view_count": null,
            "_view_module_version": "1.2.0",
            "bar_color": null,
            "_model_module": "@jupyter-widgets/controls"
          }
        },
        "84a11dc2c3234dda854a5a8f874ba65c": {
          "model_module": "@jupyter-widgets/base",
          "model_name": "LayoutModel",
          "state": {
            "_view_name": "LayoutView",
            "grid_template_rows": null,
            "right": null,
            "justify_content": null,
            "_view_module": "@jupyter-widgets/base",
            "overflow": null,
            "_model_module_version": "1.2.0",
            "_view_count": null,
            "flex_flow": null,
            "width": null,
            "min_width": null,
            "border": null,
            "align_items": null,
            "bottom": null,
            "_model_module": "@jupyter-widgets/base",
            "top": null,
            "grid_column": null,
            "overflow_y": null,
            "overflow_x": null,
            "grid_auto_flow": null,
            "grid_area": null,
            "grid_template_columns": null,
            "flex": null,
            "_model_name": "LayoutModel",
            "justify_items": null,
            "grid_row": null,
            "max_height": null,
            "align_content": null,
            "visibility": null,
            "align_self": null,
            "height": null,
            "min_height": null,
            "padding": null,
            "grid_auto_rows": null,
            "grid_gap": null,
            "max_width": null,
            "order": null,
            "_view_module_version": "1.2.0",
            "grid_template_areas": null,
            "object_position": null,
            "object_fit": null,
            "grid_auto_columns": null,
            "margin": null,
            "display": null,
            "left": null
          }
        },
        "1027957727d540bd9e1a6452f526086c": {
          "model_module": "@jupyter-widgets/controls",
          "model_name": "DescriptionStyleModel",
          "state": {
            "_view_name": "StyleView",
            "_model_name": "DescriptionStyleModel",
            "description_width": "",
            "_view_module": "@jupyter-widgets/base",
            "_model_module_version": "1.5.0",
            "_view_count": null,
            "_view_module_version": "1.2.0",
            "_model_module": "@jupyter-widgets/controls"
          }
        },
        "94c592c928ea4f31ad151733131a556a": {
          "model_module": "@jupyter-widgets/base",
          "model_name": "LayoutModel",
          "state": {
            "_view_name": "LayoutView",
            "grid_template_rows": null,
            "right": null,
            "justify_content": null,
            "_view_module": "@jupyter-widgets/base",
            "overflow": null,
            "_model_module_version": "1.2.0",
            "_view_count": null,
            "flex_flow": null,
            "width": null,
            "min_width": null,
            "border": null,
            "align_items": null,
            "bottom": null,
            "_model_module": "@jupyter-widgets/base",
            "top": null,
            "grid_column": null,
            "overflow_y": null,
            "overflow_x": null,
            "grid_auto_flow": null,
            "grid_area": null,
            "grid_template_columns": null,
            "flex": null,
            "_model_name": "LayoutModel",
            "justify_items": null,
            "grid_row": null,
            "max_height": null,
            "align_content": null,
            "visibility": null,
            "align_self": null,
            "height": null,
            "min_height": null,
            "padding": null,
            "grid_auto_rows": null,
            "grid_gap": null,
            "max_width": null,
            "order": null,
            "_view_module_version": "1.2.0",
            "grid_template_areas": null,
            "object_position": null,
            "object_fit": null,
            "grid_auto_columns": null,
            "margin": null,
            "display": null,
            "left": null
          }
        },
        "eb8af0aaca8f471dadeae8344c74a669": {
          "model_module": "@jupyter-widgets/controls",
          "model_name": "HBoxModel",
          "state": {
            "_view_name": "HBoxView",
            "_dom_classes": [],
            "_model_name": "HBoxModel",
            "_view_module": "@jupyter-widgets/controls",
            "_model_module_version": "1.5.0",
            "_view_count": null,
            "_view_module_version": "1.5.0",
            "box_style": "",
            "layout": "IPY_MODEL_12f7e1fb1d264d6d9af97cafb5cb8f2e",
            "_model_module": "@jupyter-widgets/controls",
            "children": [
              "IPY_MODEL_49153782393c4e25a15b2522d74d697f",
              "IPY_MODEL_43d1f7e80aa0494a92f7a22be9be039e"
            ]
          }
        },
        "12f7e1fb1d264d6d9af97cafb5cb8f2e": {
          "model_module": "@jupyter-widgets/base",
          "model_name": "LayoutModel",
          "state": {
            "_view_name": "LayoutView",
            "grid_template_rows": null,
            "right": null,
            "justify_content": null,
            "_view_module": "@jupyter-widgets/base",
            "overflow": null,
            "_model_module_version": "1.2.0",
            "_view_count": null,
            "flex_flow": null,
            "width": null,
            "min_width": null,
            "border": null,
            "align_items": null,
            "bottom": null,
            "_model_module": "@jupyter-widgets/base",
            "top": null,
            "grid_column": null,
            "overflow_y": null,
            "overflow_x": null,
            "grid_auto_flow": null,
            "grid_area": null,
            "grid_template_columns": null,
            "flex": null,
            "_model_name": "LayoutModel",
            "justify_items": null,
            "grid_row": null,
            "max_height": null,
            "align_content": null,
            "visibility": null,
            "align_self": null,
            "height": null,
            "min_height": null,
            "padding": null,
            "grid_auto_rows": null,
            "grid_gap": null,
            "max_width": null,
            "order": null,
            "_view_module_version": "1.2.0",
            "grid_template_areas": null,
            "object_position": null,
            "object_fit": null,
            "grid_auto_columns": null,
            "margin": null,
            "display": null,
            "left": null
          }
        },
        "49153782393c4e25a15b2522d74d697f": {
          "model_module": "@jupyter-widgets/controls",
          "model_name": "FloatProgressModel",
          "state": {
            "_view_name": "ProgressView",
            "style": "IPY_MODEL_528b946b200c453c90f916dc4e61b0ba",
            "_dom_classes": [],
            "description": "Extraction completed...: 100%",
            "_model_name": "FloatProgressModel",
            "bar_style": "success",
            "max": 1,
            "_view_module": "@jupyter-widgets/controls",
            "_model_module_version": "1.5.0",
            "value": 1,
            "_view_count": null,
            "_view_module_version": "1.5.0",
            "orientation": "horizontal",
            "min": 0,
            "description_tooltip": null,
            "_model_module": "@jupyter-widgets/controls",
            "layout": "IPY_MODEL_e49e5dcf8f6f4ba5b389295a6b29d32d"
          }
        },
        "43d1f7e80aa0494a92f7a22be9be039e": {
          "model_module": "@jupyter-widgets/controls",
          "model_name": "HTMLModel",
          "state": {
            "_view_name": "HTMLView",
            "style": "IPY_MODEL_4eaf0977870a48b9b4baf4b5a8a29468",
            "_dom_classes": [],
            "description": "",
            "_model_name": "HTMLModel",
            "placeholder": "​",
            "_view_module": "@jupyter-widgets/controls",
            "_model_module_version": "1.5.0",
            "value": " 1/1 [00:04&lt;00:00,  4.77s/ file]",
            "_view_count": null,
            "_view_module_version": "1.5.0",
            "description_tooltip": null,
            "_model_module": "@jupyter-widgets/controls",
            "layout": "IPY_MODEL_c1e8b60386ee462cbbf2b3f458ae884a"
          }
        },
        "528b946b200c453c90f916dc4e61b0ba": {
          "model_module": "@jupyter-widgets/controls",
          "model_name": "ProgressStyleModel",
          "state": {
            "_view_name": "StyleView",
            "_model_name": "ProgressStyleModel",
            "description_width": "initial",
            "_view_module": "@jupyter-widgets/base",
            "_model_module_version": "1.5.0",
            "_view_count": null,
            "_view_module_version": "1.2.0",
            "bar_color": null,
            "_model_module": "@jupyter-widgets/controls"
          }
        },
        "e49e5dcf8f6f4ba5b389295a6b29d32d": {
          "model_module": "@jupyter-widgets/base",
          "model_name": "LayoutModel",
          "state": {
            "_view_name": "LayoutView",
            "grid_template_rows": null,
            "right": null,
            "justify_content": null,
            "_view_module": "@jupyter-widgets/base",
            "overflow": null,
            "_model_module_version": "1.2.0",
            "_view_count": null,
            "flex_flow": null,
            "width": null,
            "min_width": null,
            "border": null,
            "align_items": null,
            "bottom": null,
            "_model_module": "@jupyter-widgets/base",
            "top": null,
            "grid_column": null,
            "overflow_y": null,
            "overflow_x": null,
            "grid_auto_flow": null,
            "grid_area": null,
            "grid_template_columns": null,
            "flex": null,
            "_model_name": "LayoutModel",
            "justify_items": null,
            "grid_row": null,
            "max_height": null,
            "align_content": null,
            "visibility": null,
            "align_self": null,
            "height": null,
            "min_height": null,
            "padding": null,
            "grid_auto_rows": null,
            "grid_gap": null,
            "max_width": null,
            "order": null,
            "_view_module_version": "1.2.0",
            "grid_template_areas": null,
            "object_position": null,
            "object_fit": null,
            "grid_auto_columns": null,
            "margin": null,
            "display": null,
            "left": null
          }
        },
        "4eaf0977870a48b9b4baf4b5a8a29468": {
          "model_module": "@jupyter-widgets/controls",
          "model_name": "DescriptionStyleModel",
          "state": {
            "_view_name": "StyleView",
            "_model_name": "DescriptionStyleModel",
            "description_width": "",
            "_view_module": "@jupyter-widgets/base",
            "_model_module_version": "1.5.0",
            "_view_count": null,
            "_view_module_version": "1.2.0",
            "_model_module": "@jupyter-widgets/controls"
          }
        },
        "c1e8b60386ee462cbbf2b3f458ae884a": {
          "model_module": "@jupyter-widgets/base",
          "model_name": "LayoutModel",
          "state": {
            "_view_name": "LayoutView",
            "grid_template_rows": null,
            "right": null,
            "justify_content": null,
            "_view_module": "@jupyter-widgets/base",
            "overflow": null,
            "_model_module_version": "1.2.0",
            "_view_count": null,
            "flex_flow": null,
            "width": null,
            "min_width": null,
            "border": null,
            "align_items": null,
            "bottom": null,
            "_model_module": "@jupyter-widgets/base",
            "top": null,
            "grid_column": null,
            "overflow_y": null,
            "overflow_x": null,
            "grid_auto_flow": null,
            "grid_area": null,
            "grid_template_columns": null,
            "flex": null,
            "_model_name": "LayoutModel",
            "justify_items": null,
            "grid_row": null,
            "max_height": null,
            "align_content": null,
            "visibility": null,
            "align_self": null,
            "height": null,
            "min_height": null,
            "padding": null,
            "grid_auto_rows": null,
            "grid_gap": null,
            "max_width": null,
            "order": null,
            "_view_module_version": "1.2.0",
            "grid_template_areas": null,
            "object_position": null,
            "object_fit": null,
            "grid_auto_columns": null,
            "margin": null,
            "display": null,
            "left": null
          }
        },
        "3791098d17914f4d8876dee3bfea0920": {
          "model_module": "@jupyter-widgets/controls",
          "model_name": "HBoxModel",
          "state": {
            "_view_name": "HBoxView",
            "_dom_classes": [],
            "_model_name": "HBoxModel",
            "_view_module": "@jupyter-widgets/controls",
            "_model_module_version": "1.5.0",
            "_view_count": null,
            "_view_module_version": "1.5.0",
            "box_style": "",
            "layout": "IPY_MODEL_deeb5d8edd864d43b6b217b138ecb1e0",
            "_model_module": "@jupyter-widgets/controls",
            "children": [
              "IPY_MODEL_8bd0dc2504d34918bc98076173e13250",
              "IPY_MODEL_d56c7d43d39144afa42426faa8e11340"
            ]
          }
        },
        "deeb5d8edd864d43b6b217b138ecb1e0": {
          "model_module": "@jupyter-widgets/base",
          "model_name": "LayoutModel",
          "state": {
            "_view_name": "LayoutView",
            "grid_template_rows": null,
            "right": null,
            "justify_content": null,
            "_view_module": "@jupyter-widgets/base",
            "overflow": null,
            "_model_module_version": "1.2.0",
            "_view_count": null,
            "flex_flow": null,
            "width": null,
            "min_width": null,
            "border": null,
            "align_items": null,
            "bottom": null,
            "_model_module": "@jupyter-widgets/base",
            "top": null,
            "grid_column": null,
            "overflow_y": null,
            "overflow_x": null,
            "grid_auto_flow": null,
            "grid_area": null,
            "grid_template_columns": null,
            "flex": null,
            "_model_name": "LayoutModel",
            "justify_items": null,
            "grid_row": null,
            "max_height": null,
            "align_content": null,
            "visibility": null,
            "align_self": null,
            "height": null,
            "min_height": null,
            "padding": null,
            "grid_auto_rows": null,
            "grid_gap": null,
            "max_width": null,
            "order": null,
            "_view_module_version": "1.2.0",
            "grid_template_areas": null,
            "object_position": null,
            "object_fit": null,
            "grid_auto_columns": null,
            "margin": null,
            "display": null,
            "left": null
          }
        },
        "8bd0dc2504d34918bc98076173e13250": {
          "model_module": "@jupyter-widgets/controls",
          "model_name": "FloatProgressModel",
          "state": {
            "_view_name": "ProgressView",
            "style": "IPY_MODEL_397e940433214896b6591dd574c9318f",
            "_dom_classes": [],
            "description": "",
            "_model_name": "FloatProgressModel",
            "bar_style": "info",
            "max": 1,
            "_view_module": "@jupyter-widgets/controls",
            "_model_module_version": "1.5.0",
            "value": 1,
            "_view_count": null,
            "_view_module_version": "1.5.0",
            "orientation": "horizontal",
            "min": 0,
            "description_tooltip": null,
            "_model_module": "@jupyter-widgets/controls",
            "layout": "IPY_MODEL_ce67c781dc294b0d98673242c0407acc"
          }
        },
        "d56c7d43d39144afa42426faa8e11340": {
          "model_module": "@jupyter-widgets/controls",
          "model_name": "HTMLModel",
          "state": {
            "_view_name": "HTMLView",
            "style": "IPY_MODEL_e612e59345d94bf4b72ffbf2c0b55742",
            "_dom_classes": [],
            "description": "",
            "_model_name": "HTMLModel",
            "placeholder": "​",
            "_view_module": "@jupyter-widgets/controls",
            "_model_module_version": "1.5.0",
            "value": " 50000/0 [00:36&lt;00:00, 1644.63 examples/s]",
            "_view_count": null,
            "_view_module_version": "1.5.0",
            "description_tooltip": null,
            "_model_module": "@jupyter-widgets/controls",
            "layout": "IPY_MODEL_b6df3afd98eb4305b9b583daa19bbf2d"
          }
        },
        "397e940433214896b6591dd574c9318f": {
          "model_module": "@jupyter-widgets/controls",
          "model_name": "ProgressStyleModel",
          "state": {
            "_view_name": "StyleView",
            "_model_name": "ProgressStyleModel",
            "description_width": "initial",
            "_view_module": "@jupyter-widgets/base",
            "_model_module_version": "1.5.0",
            "_view_count": null,
            "_view_module_version": "1.2.0",
            "bar_color": null,
            "_model_module": "@jupyter-widgets/controls"
          }
        },
        "ce67c781dc294b0d98673242c0407acc": {
          "model_module": "@jupyter-widgets/base",
          "model_name": "LayoutModel",
          "state": {
            "_view_name": "LayoutView",
            "grid_template_rows": null,
            "right": null,
            "justify_content": null,
            "_view_module": "@jupyter-widgets/base",
            "overflow": null,
            "_model_module_version": "1.2.0",
            "_view_count": null,
            "flex_flow": null,
            "width": null,
            "min_width": null,
            "border": null,
            "align_items": null,
            "bottom": null,
            "_model_module": "@jupyter-widgets/base",
            "top": null,
            "grid_column": null,
            "overflow_y": null,
            "overflow_x": null,
            "grid_auto_flow": null,
            "grid_area": null,
            "grid_template_columns": null,
            "flex": null,
            "_model_name": "LayoutModel",
            "justify_items": null,
            "grid_row": null,
            "max_height": null,
            "align_content": null,
            "visibility": null,
            "align_self": null,
            "height": null,
            "min_height": null,
            "padding": null,
            "grid_auto_rows": null,
            "grid_gap": null,
            "max_width": null,
            "order": null,
            "_view_module_version": "1.2.0",
            "grid_template_areas": null,
            "object_position": null,
            "object_fit": null,
            "grid_auto_columns": null,
            "margin": null,
            "display": null,
            "left": null
          }
        },
        "e612e59345d94bf4b72ffbf2c0b55742": {
          "model_module": "@jupyter-widgets/controls",
          "model_name": "DescriptionStyleModel",
          "state": {
            "_view_name": "StyleView",
            "_model_name": "DescriptionStyleModel",
            "description_width": "",
            "_view_module": "@jupyter-widgets/base",
            "_model_module_version": "1.5.0",
            "_view_count": null,
            "_view_module_version": "1.2.0",
            "_model_module": "@jupyter-widgets/controls"
          }
        },
        "b6df3afd98eb4305b9b583daa19bbf2d": {
          "model_module": "@jupyter-widgets/base",
          "model_name": "LayoutModel",
          "state": {
            "_view_name": "LayoutView",
            "grid_template_rows": null,
            "right": null,
            "justify_content": null,
            "_view_module": "@jupyter-widgets/base",
            "overflow": null,
            "_model_module_version": "1.2.0",
            "_view_count": null,
            "flex_flow": null,
            "width": null,
            "min_width": null,
            "border": null,
            "align_items": null,
            "bottom": null,
            "_model_module": "@jupyter-widgets/base",
            "top": null,
            "grid_column": null,
            "overflow_y": null,
            "overflow_x": null,
            "grid_auto_flow": null,
            "grid_area": null,
            "grid_template_columns": null,
            "flex": null,
            "_model_name": "LayoutModel",
            "justify_items": null,
            "grid_row": null,
            "max_height": null,
            "align_content": null,
            "visibility": null,
            "align_self": null,
            "height": null,
            "min_height": null,
            "padding": null,
            "grid_auto_rows": null,
            "grid_gap": null,
            "max_width": null,
            "order": null,
            "_view_module_version": "1.2.0",
            "grid_template_areas": null,
            "object_position": null,
            "object_fit": null,
            "grid_auto_columns": null,
            "margin": null,
            "display": null,
            "left": null
          }
        },
        "da86447fddbb426aae03c4d8f55f9da8": {
          "model_module": "@jupyter-widgets/controls",
          "model_name": "HBoxModel",
          "state": {
            "_view_name": "HBoxView",
            "_dom_classes": [],
            "_model_name": "HBoxModel",
            "_view_module": "@jupyter-widgets/controls",
            "_model_module_version": "1.5.0",
            "_view_count": null,
            "_view_module_version": "1.5.0",
            "box_style": "",
            "layout": "IPY_MODEL_3211ebfd49a3493bba5d8a390d3cb778",
            "_model_module": "@jupyter-widgets/controls",
            "children": [
              "IPY_MODEL_906c9303432843eea17ad4a406b27d38",
              "IPY_MODEL_f71792c1925544a9a9a0753f6b93c6a4"
            ]
          }
        },
        "3211ebfd49a3493bba5d8a390d3cb778": {
          "model_module": "@jupyter-widgets/base",
          "model_name": "LayoutModel",
          "state": {
            "_view_name": "LayoutView",
            "grid_template_rows": null,
            "right": null,
            "justify_content": null,
            "_view_module": "@jupyter-widgets/base",
            "overflow": null,
            "_model_module_version": "1.2.0",
            "_view_count": null,
            "flex_flow": null,
            "width": null,
            "min_width": null,
            "border": null,
            "align_items": null,
            "bottom": null,
            "_model_module": "@jupyter-widgets/base",
            "top": null,
            "grid_column": null,
            "overflow_y": null,
            "overflow_x": null,
            "grid_auto_flow": null,
            "grid_area": null,
            "grid_template_columns": null,
            "flex": null,
            "_model_name": "LayoutModel",
            "justify_items": null,
            "grid_row": null,
            "max_height": null,
            "align_content": null,
            "visibility": null,
            "align_self": null,
            "height": null,
            "min_height": null,
            "padding": null,
            "grid_auto_rows": null,
            "grid_gap": null,
            "max_width": null,
            "order": null,
            "_view_module_version": "1.2.0",
            "grid_template_areas": null,
            "object_position": null,
            "object_fit": null,
            "grid_auto_columns": null,
            "margin": null,
            "display": null,
            "left": null
          }
        },
        "906c9303432843eea17ad4a406b27d38": {
          "model_module": "@jupyter-widgets/controls",
          "model_name": "FloatProgressModel",
          "state": {
            "_view_name": "ProgressView",
            "style": "IPY_MODEL_e6a18fb6e7744e23b81bcba809a978bd",
            "_dom_classes": [],
            "description": " 82%",
            "_model_name": "FloatProgressModel",
            "bar_style": "danger",
            "max": 50000,
            "_view_module": "@jupyter-widgets/controls",
            "_model_module_version": "1.5.0",
            "value": 40833,
            "_view_count": null,
            "_view_module_version": "1.5.0",
            "orientation": "horizontal",
            "min": 0,
            "description_tooltip": null,
            "_model_module": "@jupyter-widgets/controls",
            "layout": "IPY_MODEL_b0a221e7cc2a4ebb822c18cd96ed8b5b"
          }
        },
        "f71792c1925544a9a9a0753f6b93c6a4": {
          "model_module": "@jupyter-widgets/controls",
          "model_name": "HTMLModel",
          "state": {
            "_view_name": "HTMLView",
            "style": "IPY_MODEL_665090ad99c54f52bf7599ece5a857a2",
            "_dom_classes": [],
            "description": "",
            "_model_name": "HTMLModel",
            "placeholder": "​",
            "_view_module": "@jupyter-widgets/controls",
            "_model_module_version": "1.5.0",
            "value": " 40833/50000 [00:00&lt;00:00, 40831.46 examples/s]",
            "_view_count": null,
            "_view_module_version": "1.5.0",
            "description_tooltip": null,
            "_model_module": "@jupyter-widgets/controls",
            "layout": "IPY_MODEL_eb7d6955807044b6b0c388092bb12db0"
          }
        },
        "e6a18fb6e7744e23b81bcba809a978bd": {
          "model_module": "@jupyter-widgets/controls",
          "model_name": "ProgressStyleModel",
          "state": {
            "_view_name": "StyleView",
            "_model_name": "ProgressStyleModel",
            "description_width": "initial",
            "_view_module": "@jupyter-widgets/base",
            "_model_module_version": "1.5.0",
            "_view_count": null,
            "_view_module_version": "1.2.0",
            "bar_color": null,
            "_model_module": "@jupyter-widgets/controls"
          }
        },
        "b0a221e7cc2a4ebb822c18cd96ed8b5b": {
          "model_module": "@jupyter-widgets/base",
          "model_name": "LayoutModel",
          "state": {
            "_view_name": "LayoutView",
            "grid_template_rows": null,
            "right": null,
            "justify_content": null,
            "_view_module": "@jupyter-widgets/base",
            "overflow": null,
            "_model_module_version": "1.2.0",
            "_view_count": null,
            "flex_flow": null,
            "width": null,
            "min_width": null,
            "border": null,
            "align_items": null,
            "bottom": null,
            "_model_module": "@jupyter-widgets/base",
            "top": null,
            "grid_column": null,
            "overflow_y": null,
            "overflow_x": null,
            "grid_auto_flow": null,
            "grid_area": null,
            "grid_template_columns": null,
            "flex": null,
            "_model_name": "LayoutModel",
            "justify_items": null,
            "grid_row": null,
            "max_height": null,
            "align_content": null,
            "visibility": null,
            "align_self": null,
            "height": null,
            "min_height": null,
            "padding": null,
            "grid_auto_rows": null,
            "grid_gap": null,
            "max_width": null,
            "order": null,
            "_view_module_version": "1.2.0",
            "grid_template_areas": null,
            "object_position": null,
            "object_fit": null,
            "grid_auto_columns": null,
            "margin": null,
            "display": null,
            "left": null
          }
        },
        "665090ad99c54f52bf7599ece5a857a2": {
          "model_module": "@jupyter-widgets/controls",
          "model_name": "DescriptionStyleModel",
          "state": {
            "_view_name": "StyleView",
            "_model_name": "DescriptionStyleModel",
            "description_width": "",
            "_view_module": "@jupyter-widgets/base",
            "_model_module_version": "1.5.0",
            "_view_count": null,
            "_view_module_version": "1.2.0",
            "_model_module": "@jupyter-widgets/controls"
          }
        },
        "eb7d6955807044b6b0c388092bb12db0": {
          "model_module": "@jupyter-widgets/base",
          "model_name": "LayoutModel",
          "state": {
            "_view_name": "LayoutView",
            "grid_template_rows": null,
            "right": null,
            "justify_content": null,
            "_view_module": "@jupyter-widgets/base",
            "overflow": null,
            "_model_module_version": "1.2.0",
            "_view_count": null,
            "flex_flow": null,
            "width": null,
            "min_width": null,
            "border": null,
            "align_items": null,
            "bottom": null,
            "_model_module": "@jupyter-widgets/base",
            "top": null,
            "grid_column": null,
            "overflow_y": null,
            "overflow_x": null,
            "grid_auto_flow": null,
            "grid_area": null,
            "grid_template_columns": null,
            "flex": null,
            "_model_name": "LayoutModel",
            "justify_items": null,
            "grid_row": null,
            "max_height": null,
            "align_content": null,
            "visibility": null,
            "align_self": null,
            "height": null,
            "min_height": null,
            "padding": null,
            "grid_auto_rows": null,
            "grid_gap": null,
            "max_width": null,
            "order": null,
            "_view_module_version": "1.2.0",
            "grid_template_areas": null,
            "object_position": null,
            "object_fit": null,
            "grid_auto_columns": null,
            "margin": null,
            "display": null,
            "left": null
          }
        },
        "dcba7737ee5e4ac6a0a1effa6b60b4e5": {
          "model_module": "@jupyter-widgets/controls",
          "model_name": "HBoxModel",
          "state": {
            "_view_name": "HBoxView",
            "_dom_classes": [],
            "_model_name": "HBoxModel",
            "_view_module": "@jupyter-widgets/controls",
            "_model_module_version": "1.5.0",
            "_view_count": null,
            "_view_module_version": "1.5.0",
            "box_style": "",
            "layout": "IPY_MODEL_ea9aff1036294d0a970b7ce1c638e309",
            "_model_module": "@jupyter-widgets/controls",
            "children": [
              "IPY_MODEL_42492502e0e84a6a94e03eea133e7003",
              "IPY_MODEL_fc5f0a264ae442729e4cefbef9392a1f"
            ]
          }
        },
        "ea9aff1036294d0a970b7ce1c638e309": {
          "model_module": "@jupyter-widgets/base",
          "model_name": "LayoutModel",
          "state": {
            "_view_name": "LayoutView",
            "grid_template_rows": null,
            "right": null,
            "justify_content": null,
            "_view_module": "@jupyter-widgets/base",
            "overflow": null,
            "_model_module_version": "1.2.0",
            "_view_count": null,
            "flex_flow": null,
            "width": null,
            "min_width": null,
            "border": null,
            "align_items": null,
            "bottom": null,
            "_model_module": "@jupyter-widgets/base",
            "top": null,
            "grid_column": null,
            "overflow_y": null,
            "overflow_x": null,
            "grid_auto_flow": null,
            "grid_area": null,
            "grid_template_columns": null,
            "flex": null,
            "_model_name": "LayoutModel",
            "justify_items": null,
            "grid_row": null,
            "max_height": null,
            "align_content": null,
            "visibility": null,
            "align_self": null,
            "height": null,
            "min_height": null,
            "padding": null,
            "grid_auto_rows": null,
            "grid_gap": null,
            "max_width": null,
            "order": null,
            "_view_module_version": "1.2.0",
            "grid_template_areas": null,
            "object_position": null,
            "object_fit": null,
            "grid_auto_columns": null,
            "margin": null,
            "display": null,
            "left": null
          }
        },
        "42492502e0e84a6a94e03eea133e7003": {
          "model_module": "@jupyter-widgets/controls",
          "model_name": "FloatProgressModel",
          "state": {
            "_view_name": "ProgressView",
            "style": "IPY_MODEL_0f6dc1c26a7d4600a1eb86af16952ecf",
            "_dom_classes": [],
            "description": "",
            "_model_name": "FloatProgressModel",
            "bar_style": "info",
            "max": 1,
            "_view_module": "@jupyter-widgets/controls",
            "_model_module_version": "1.5.0",
            "value": 1,
            "_view_count": null,
            "_view_module_version": "1.5.0",
            "orientation": "horizontal",
            "min": 0,
            "description_tooltip": null,
            "_model_module": "@jupyter-widgets/controls",
            "layout": "IPY_MODEL_6f056ac8f7054540b8f0196b57a61988"
          }
        },
        "fc5f0a264ae442729e4cefbef9392a1f": {
          "model_module": "@jupyter-widgets/controls",
          "model_name": "HTMLModel",
          "state": {
            "_view_name": "HTMLView",
            "style": "IPY_MODEL_5dd85fcfb3684c79866a0d4f046c07f0",
            "_dom_classes": [],
            "description": "",
            "_model_name": "HTMLModel",
            "placeholder": "​",
            "_view_module": "@jupyter-widgets/controls",
            "_model_module_version": "1.5.0",
            "value": " 10000/0 [00:06&lt;00:00, 1662.70 examples/s]",
            "_view_count": null,
            "_view_module_version": "1.5.0",
            "description_tooltip": null,
            "_model_module": "@jupyter-widgets/controls",
            "layout": "IPY_MODEL_9ed21b4b88d6436f9f9a1f58d947bdde"
          }
        },
        "0f6dc1c26a7d4600a1eb86af16952ecf": {
          "model_module": "@jupyter-widgets/controls",
          "model_name": "ProgressStyleModel",
          "state": {
            "_view_name": "StyleView",
            "_model_name": "ProgressStyleModel",
            "description_width": "initial",
            "_view_module": "@jupyter-widgets/base",
            "_model_module_version": "1.5.0",
            "_view_count": null,
            "_view_module_version": "1.2.0",
            "bar_color": null,
            "_model_module": "@jupyter-widgets/controls"
          }
        },
        "6f056ac8f7054540b8f0196b57a61988": {
          "model_module": "@jupyter-widgets/base",
          "model_name": "LayoutModel",
          "state": {
            "_view_name": "LayoutView",
            "grid_template_rows": null,
            "right": null,
            "justify_content": null,
            "_view_module": "@jupyter-widgets/base",
            "overflow": null,
            "_model_module_version": "1.2.0",
            "_view_count": null,
            "flex_flow": null,
            "width": null,
            "min_width": null,
            "border": null,
            "align_items": null,
            "bottom": null,
            "_model_module": "@jupyter-widgets/base",
            "top": null,
            "grid_column": null,
            "overflow_y": null,
            "overflow_x": null,
            "grid_auto_flow": null,
            "grid_area": null,
            "grid_template_columns": null,
            "flex": null,
            "_model_name": "LayoutModel",
            "justify_items": null,
            "grid_row": null,
            "max_height": null,
            "align_content": null,
            "visibility": null,
            "align_self": null,
            "height": null,
            "min_height": null,
            "padding": null,
            "grid_auto_rows": null,
            "grid_gap": null,
            "max_width": null,
            "order": null,
            "_view_module_version": "1.2.0",
            "grid_template_areas": null,
            "object_position": null,
            "object_fit": null,
            "grid_auto_columns": null,
            "margin": null,
            "display": null,
            "left": null
          }
        },
        "5dd85fcfb3684c79866a0d4f046c07f0": {
          "model_module": "@jupyter-widgets/controls",
          "model_name": "DescriptionStyleModel",
          "state": {
            "_view_name": "StyleView",
            "_model_name": "DescriptionStyleModel",
            "description_width": "",
            "_view_module": "@jupyter-widgets/base",
            "_model_module_version": "1.5.0",
            "_view_count": null,
            "_view_module_version": "1.2.0",
            "_model_module": "@jupyter-widgets/controls"
          }
        },
        "9ed21b4b88d6436f9f9a1f58d947bdde": {
          "model_module": "@jupyter-widgets/base",
          "model_name": "LayoutModel",
          "state": {
            "_view_name": "LayoutView",
            "grid_template_rows": null,
            "right": null,
            "justify_content": null,
            "_view_module": "@jupyter-widgets/base",
            "overflow": null,
            "_model_module_version": "1.2.0",
            "_view_count": null,
            "flex_flow": null,
            "width": null,
            "min_width": null,
            "border": null,
            "align_items": null,
            "bottom": null,
            "_model_module": "@jupyter-widgets/base",
            "top": null,
            "grid_column": null,
            "overflow_y": null,
            "overflow_x": null,
            "grid_auto_flow": null,
            "grid_area": null,
            "grid_template_columns": null,
            "flex": null,
            "_model_name": "LayoutModel",
            "justify_items": null,
            "grid_row": null,
            "max_height": null,
            "align_content": null,
            "visibility": null,
            "align_self": null,
            "height": null,
            "min_height": null,
            "padding": null,
            "grid_auto_rows": null,
            "grid_gap": null,
            "max_width": null,
            "order": null,
            "_view_module_version": "1.2.0",
            "grid_template_areas": null,
            "object_position": null,
            "object_fit": null,
            "grid_auto_columns": null,
            "margin": null,
            "display": null,
            "left": null
          }
        },
        "c7185e28a2f84f3b968068a7b3f78f44": {
          "model_module": "@jupyter-widgets/controls",
          "model_name": "HBoxModel",
          "state": {
            "_view_name": "HBoxView",
            "_dom_classes": [],
            "_model_name": "HBoxModel",
            "_view_module": "@jupyter-widgets/controls",
            "_model_module_version": "1.5.0",
            "_view_count": null,
            "_view_module_version": "1.5.0",
            "box_style": "",
            "layout": "IPY_MODEL_3d8c3b67bc3743bda40ddfed7cfd6a1d",
            "_model_module": "@jupyter-widgets/controls",
            "children": [
              "IPY_MODEL_b2c7fb0b9f6d45429eedc3225dfa66b7",
              "IPY_MODEL_742c650e6da04e0781755458f356eac2"
            ]
          }
        },
        "3d8c3b67bc3743bda40ddfed7cfd6a1d": {
          "model_module": "@jupyter-widgets/base",
          "model_name": "LayoutModel",
          "state": {
            "_view_name": "LayoutView",
            "grid_template_rows": null,
            "right": null,
            "justify_content": null,
            "_view_module": "@jupyter-widgets/base",
            "overflow": null,
            "_model_module_version": "1.2.0",
            "_view_count": null,
            "flex_flow": null,
            "width": null,
            "min_width": null,
            "border": null,
            "align_items": null,
            "bottom": null,
            "_model_module": "@jupyter-widgets/base",
            "top": null,
            "grid_column": null,
            "overflow_y": null,
            "overflow_x": null,
            "grid_auto_flow": null,
            "grid_area": null,
            "grid_template_columns": null,
            "flex": null,
            "_model_name": "LayoutModel",
            "justify_items": null,
            "grid_row": null,
            "max_height": null,
            "align_content": null,
            "visibility": null,
            "align_self": null,
            "height": null,
            "min_height": null,
            "padding": null,
            "grid_auto_rows": null,
            "grid_gap": null,
            "max_width": null,
            "order": null,
            "_view_module_version": "1.2.0",
            "grid_template_areas": null,
            "object_position": null,
            "object_fit": null,
            "grid_auto_columns": null,
            "margin": null,
            "display": null,
            "left": null
          }
        },
        "b2c7fb0b9f6d45429eedc3225dfa66b7": {
          "model_module": "@jupyter-widgets/controls",
          "model_name": "FloatProgressModel",
          "state": {
            "_view_name": "ProgressView",
            "style": "IPY_MODEL_74a2a37cadc3459f82666676d72952e0",
            "_dom_classes": [],
            "description": "  0%",
            "_model_name": "FloatProgressModel",
            "bar_style": "danger",
            "max": 10000,
            "_view_module": "@jupyter-widgets/controls",
            "_model_module_version": "1.5.0",
            "value": 0,
            "_view_count": null,
            "_view_module_version": "1.5.0",
            "orientation": "horizontal",
            "min": 0,
            "description_tooltip": null,
            "_model_module": "@jupyter-widgets/controls",
            "layout": "IPY_MODEL_09dcd06ee09744fc93aefb07bbaf5609"
          }
        },
        "742c650e6da04e0781755458f356eac2": {
          "model_module": "@jupyter-widgets/controls",
          "model_name": "HTMLModel",
          "state": {
            "_view_name": "HTMLView",
            "style": "IPY_MODEL_8a9cfdd577d042cfa65d6ca9697f1d68",
            "_dom_classes": [],
            "description": "",
            "_model_name": "HTMLModel",
            "placeholder": "​",
            "_view_module": "@jupyter-widgets/controls",
            "_model_module_version": "1.5.0",
            "value": " 0/10000 [00:00&lt;?, ? examples/s]",
            "_view_count": null,
            "_view_module_version": "1.5.0",
            "description_tooltip": null,
            "_model_module": "@jupyter-widgets/controls",
            "layout": "IPY_MODEL_15fbae83ffa54d8998f815a0c46d5595"
          }
        },
        "74a2a37cadc3459f82666676d72952e0": {
          "model_module": "@jupyter-widgets/controls",
          "model_name": "ProgressStyleModel",
          "state": {
            "_view_name": "StyleView",
            "_model_name": "ProgressStyleModel",
            "description_width": "initial",
            "_view_module": "@jupyter-widgets/base",
            "_model_module_version": "1.5.0",
            "_view_count": null,
            "_view_module_version": "1.2.0",
            "bar_color": null,
            "_model_module": "@jupyter-widgets/controls"
          }
        },
        "09dcd06ee09744fc93aefb07bbaf5609": {
          "model_module": "@jupyter-widgets/base",
          "model_name": "LayoutModel",
          "state": {
            "_view_name": "LayoutView",
            "grid_template_rows": null,
            "right": null,
            "justify_content": null,
            "_view_module": "@jupyter-widgets/base",
            "overflow": null,
            "_model_module_version": "1.2.0",
            "_view_count": null,
            "flex_flow": null,
            "width": null,
            "min_width": null,
            "border": null,
            "align_items": null,
            "bottom": null,
            "_model_module": "@jupyter-widgets/base",
            "top": null,
            "grid_column": null,
            "overflow_y": null,
            "overflow_x": null,
            "grid_auto_flow": null,
            "grid_area": null,
            "grid_template_columns": null,
            "flex": null,
            "_model_name": "LayoutModel",
            "justify_items": null,
            "grid_row": null,
            "max_height": null,
            "align_content": null,
            "visibility": null,
            "align_self": null,
            "height": null,
            "min_height": null,
            "padding": null,
            "grid_auto_rows": null,
            "grid_gap": null,
            "max_width": null,
            "order": null,
            "_view_module_version": "1.2.0",
            "grid_template_areas": null,
            "object_position": null,
            "object_fit": null,
            "grid_auto_columns": null,
            "margin": null,
            "display": null,
            "left": null
          }
        },
        "8a9cfdd577d042cfa65d6ca9697f1d68": {
          "model_module": "@jupyter-widgets/controls",
          "model_name": "DescriptionStyleModel",
          "state": {
            "_view_name": "StyleView",
            "_model_name": "DescriptionStyleModel",
            "description_width": "",
            "_view_module": "@jupyter-widgets/base",
            "_model_module_version": "1.5.0",
            "_view_count": null,
            "_view_module_version": "1.2.0",
            "_model_module": "@jupyter-widgets/controls"
          }
        },
        "15fbae83ffa54d8998f815a0c46d5595": {
          "model_module": "@jupyter-widgets/base",
          "model_name": "LayoutModel",
          "state": {
            "_view_name": "LayoutView",
            "grid_template_rows": null,
            "right": null,
            "justify_content": null,
            "_view_module": "@jupyter-widgets/base",
            "overflow": null,
            "_model_module_version": "1.2.0",
            "_view_count": null,
            "flex_flow": null,
            "width": null,
            "min_width": null,
            "border": null,
            "align_items": null,
            "bottom": null,
            "_model_module": "@jupyter-widgets/base",
            "top": null,
            "grid_column": null,
            "overflow_y": null,
            "overflow_x": null,
            "grid_auto_flow": null,
            "grid_area": null,
            "grid_template_columns": null,
            "flex": null,
            "_model_name": "LayoutModel",
            "justify_items": null,
            "grid_row": null,
            "max_height": null,
            "align_content": null,
            "visibility": null,
            "align_self": null,
            "height": null,
            "min_height": null,
            "padding": null,
            "grid_auto_rows": null,
            "grid_gap": null,
            "max_width": null,
            "order": null,
            "_view_module_version": "1.2.0",
            "grid_template_areas": null,
            "object_position": null,
            "object_fit": null,
            "grid_auto_columns": null,
            "margin": null,
            "display": null,
            "left": null
          }
        }
      }
    }
  },
  "cells": [
    {
      "cell_type": "code",
      "metadata": {
        "id": "WGkfd62miuUD"
      },
      "source": [
        "import numpy as np\n",
        "import tensorflow as tf\n",
        "import tensorflow_datasets as tfds\n",
        "import matplotlib.pyplot as plt\n",
        "import time\n",
        "from IPython import display\n",
        "import sys"
      ],
      "execution_count": null,
      "outputs": []
    },
    {
      "cell_type": "markdown",
      "metadata": {
        "id": "aXrKT1yXrjNU"
      },
      "source": [
        "# 1 Data set"
      ]
    },
    {
      "cell_type": "markdown",
      "metadata": {
        "id": "b1--sKj8cpV3"
      },
      "source": [
        "We will work again with the Tensorflow Cifar10 dataset. It contains 60.000 coloured images of cells with equal sizes.\n",
        "\n",
        "Each images corresponds to one of 10 categories. The dataset is already implementedas a keras.dataset module and very convenient to load!"
      ]
    },
    {
      "cell_type": "code",
      "metadata": {
        "colab": {
          "base_uri": "https://localhost:8080/",
          "height": 1000,
          "referenced_widgets": [
            "ce4d22c35ada4267a576106fd39a3195",
            "af4e39046c49461d8fbe78c5c96d9c8d",
            "d4e5274bc2fb42e79e52672b91ba8791",
            "032a837eb0d74535a99fe0075aa2767b",
            "7b06db2faae74b948299d34030493e36",
            "5c72181e6d884da69d8d1bbd2de05adf",
            "f7c1e12d6ef04e9fa2c578c5b7f6d7fd",
            "2360f4c82ca645919aceb44c70ab5b84",
            "9bd208b4fe67425ab5dc5fdf42fb1ac0",
            "fdb2ed609f6141608fdd34f94d258a91",
            "12b789362cec4cb5b233b3c06a3af4b5",
            "becd67c0f2a244e6a556abff1765c55e",
            "8b9841e718624f4bad69549d03b2cc5a",
            "84a11dc2c3234dda854a5a8f874ba65c",
            "1027957727d540bd9e1a6452f526086c",
            "94c592c928ea4f31ad151733131a556a",
            "eb8af0aaca8f471dadeae8344c74a669",
            "12f7e1fb1d264d6d9af97cafb5cb8f2e",
            "49153782393c4e25a15b2522d74d697f",
            "43d1f7e80aa0494a92f7a22be9be039e",
            "528b946b200c453c90f916dc4e61b0ba",
            "e49e5dcf8f6f4ba5b389295a6b29d32d",
            "4eaf0977870a48b9b4baf4b5a8a29468",
            "c1e8b60386ee462cbbf2b3f458ae884a",
            "3791098d17914f4d8876dee3bfea0920",
            "deeb5d8edd864d43b6b217b138ecb1e0",
            "8bd0dc2504d34918bc98076173e13250",
            "d56c7d43d39144afa42426faa8e11340",
            "397e940433214896b6591dd574c9318f",
            "ce67c781dc294b0d98673242c0407acc",
            "e612e59345d94bf4b72ffbf2c0b55742",
            "b6df3afd98eb4305b9b583daa19bbf2d",
            "da86447fddbb426aae03c4d8f55f9da8",
            "3211ebfd49a3493bba5d8a390d3cb778",
            "906c9303432843eea17ad4a406b27d38",
            "f71792c1925544a9a9a0753f6b93c6a4",
            "e6a18fb6e7744e23b81bcba809a978bd",
            "b0a221e7cc2a4ebb822c18cd96ed8b5b",
            "665090ad99c54f52bf7599ece5a857a2",
            "eb7d6955807044b6b0c388092bb12db0",
            "dcba7737ee5e4ac6a0a1effa6b60b4e5",
            "ea9aff1036294d0a970b7ce1c638e309",
            "42492502e0e84a6a94e03eea133e7003",
            "fc5f0a264ae442729e4cefbef9392a1f",
            "0f6dc1c26a7d4600a1eb86af16952ecf",
            "6f056ac8f7054540b8f0196b57a61988",
            "5dd85fcfb3684c79866a0d4f046c07f0",
            "9ed21b4b88d6436f9f9a1f58d947bdde",
            "c7185e28a2f84f3b968068a7b3f78f44",
            "3d8c3b67bc3743bda40ddfed7cfd6a1d",
            "b2c7fb0b9f6d45429eedc3225dfa66b7",
            "742c650e6da04e0781755458f356eac2",
            "74a2a37cadc3459f82666676d72952e0",
            "09dcd06ee09744fc93aefb07bbaf5609",
            "8a9cfdd577d042cfa65d6ca9697f1d68",
            "15fbae83ffa54d8998f815a0c46d5595"
          ]
        },
        "id": "LNp2Y8J5jKgK",
        "outputId": "30b48cd6-470d-443e-a83c-107ff561bb2f"
      },
      "source": [
        "(ds_raw_train, ds_raw_test), ds_info = tfds.load('cifar10', split=['train', 'test'], shuffle_files=True, as_supervised=True, with_info=True)\n",
        "tfds.show_examples(ds_raw_train, ds_info)"
      ],
      "execution_count": null,
      "outputs": [
        {
          "output_type": "stream",
          "text": [
            "\u001b[1mDownloading and preparing dataset cifar10/3.0.2 (download: 162.17 MiB, generated: 132.40 MiB, total: 294.58 MiB) to /root/tensorflow_datasets/cifar10/3.0.2...\u001b[0m\n"
          ],
          "name": "stdout"
        },
        {
          "output_type": "display_data",
          "data": {
            "application/vnd.jupyter.widget-view+json": {
              "model_id": "ce4d22c35ada4267a576106fd39a3195",
              "version_minor": 0,
              "version_major": 2
            },
            "text/plain": [
              "HBox(children=(FloatProgress(value=1.0, bar_style='info', description='Dl Completed...', max=1.0, style=Progre…"
            ]
          },
          "metadata": {
            "tags": []
          }
        },
        {
          "output_type": "display_data",
          "data": {
            "application/vnd.jupyter.widget-view+json": {
              "model_id": "9bd208b4fe67425ab5dc5fdf42fb1ac0",
              "version_minor": 0,
              "version_major": 2
            },
            "text/plain": [
              "HBox(children=(FloatProgress(value=1.0, bar_style='info', description='Dl Size...', max=1.0, style=ProgressSty…"
            ]
          },
          "metadata": {
            "tags": []
          }
        },
        {
          "output_type": "display_data",
          "data": {
            "application/vnd.jupyter.widget-view+json": {
              "model_id": "eb8af0aaca8f471dadeae8344c74a669",
              "version_minor": 0,
              "version_major": 2
            },
            "text/plain": [
              "HBox(children=(FloatProgress(value=1.0, bar_style='info', description='Extraction completed...', max=1.0, styl…"
            ]
          },
          "metadata": {
            "tags": []
          }
        },
        {
          "output_type": "stream",
          "text": [
            "\n",
            "\n",
            "\n",
            "\n",
            "\n",
            "\n"
          ],
          "name": "stdout"
        },
        {
          "output_type": "display_data",
          "data": {
            "application/vnd.jupyter.widget-view+json": {
              "model_id": "3791098d17914f4d8876dee3bfea0920",
              "version_minor": 0,
              "version_major": 2
            },
            "text/plain": [
              "HBox(children=(FloatProgress(value=1.0, bar_style='info', max=1.0), HTML(value='')))"
            ]
          },
          "metadata": {
            "tags": []
          }
        },
        {
          "output_type": "stream",
          "text": [
            "\rShuffling and writing examples to /root/tensorflow_datasets/cifar10/3.0.2.incomplete7QP3UA/cifar10-train.tfrecord\n"
          ],
          "name": "stdout"
        },
        {
          "output_type": "display_data",
          "data": {
            "application/vnd.jupyter.widget-view+json": {
              "model_id": "da86447fddbb426aae03c4d8f55f9da8",
              "version_minor": 0,
              "version_major": 2
            },
            "text/plain": [
              "HBox(children=(FloatProgress(value=0.0, max=50000.0), HTML(value='')))"
            ]
          },
          "metadata": {
            "tags": []
          }
        },
        {
          "output_type": "stream",
          "text": [
            "\r"
          ],
          "name": "stdout"
        },
        {
          "output_type": "display_data",
          "data": {
            "application/vnd.jupyter.widget-view+json": {
              "model_id": "dcba7737ee5e4ac6a0a1effa6b60b4e5",
              "version_minor": 0,
              "version_major": 2
            },
            "text/plain": [
              "HBox(children=(FloatProgress(value=1.0, bar_style='info', max=1.0), HTML(value='')))"
            ]
          },
          "metadata": {
            "tags": []
          }
        },
        {
          "output_type": "stream",
          "text": [
            "\rShuffling and writing examples to /root/tensorflow_datasets/cifar10/3.0.2.incomplete7QP3UA/cifar10-test.tfrecord\n"
          ],
          "name": "stdout"
        },
        {
          "output_type": "display_data",
          "data": {
            "application/vnd.jupyter.widget-view+json": {
              "model_id": "c7185e28a2f84f3b968068a7b3f78f44",
              "version_minor": 0,
              "version_major": 2
            },
            "text/plain": [
              "HBox(children=(FloatProgress(value=0.0, max=10000.0), HTML(value='')))"
            ]
          },
          "metadata": {
            "tags": []
          }
        },
        {
          "output_type": "stream",
          "text": [
            "\u001b[1mDataset cifar10 downloaded and prepared to /root/tensorflow_datasets/cifar10/3.0.2. Subsequent calls will reuse this data.\u001b[0m\n",
            "\r"
          ],
          "name": "stdout"
        },
        {
          "output_type": "display_data",
          "data": {
            "image/png": "[encoded data removed]",
            "text/plain": [
              "<Figure size 648x648 with 9 Axes>"
            ]
          },
          "metadata": {
            "tags": []
          }
        },
        {
          "output_type": "execute_result",
          "data": {
            "image/png": "[encoded data removed]",
            "text/plain": [
              "<Figure size 648x648 with 9 Axes>"
            ]
          },
          "metadata": {
            "tags": []
          },
          "execution_count": 2
        }
      ]
    },
    {
      "cell_type": "markdown",
      "metadata": {
        "id": "eB0GuWQ2dQFr"
      },
      "source": [
        "Perform necessary or beneficial preprocessing steps.\n",
        "\n",
        "- normalize the values of the images, i.e. rescale them to the range [0,1]\n",
        "> converting the data type from unsigned integers to floats, then dividing the pixel values by the maximum value (i.e. 255)\n",
        "- we use one-hot encoding to easily work with the labels \n",
        "> we need 10 digits, because the dataset contains pictures from 10 distinct classes <br>\n",
        "> therefore we cast the labels into integers\n",
        "\n",
        "\n",
        "- in the end, we use batching and prefetching to make the further training easier and the runtime faster"
      ]
    },
    {
      "cell_type": "code",
      "metadata": {
        "id": "ib70O_FGjh0q"
      },
      "source": [
        "# Dataset\n",
        "ds_train = ds_raw_train.map(lambda x,y: (tf.cast(2*(x/255)-1, tf.float32), tf.one_hot(tf.cast(y, tf.uint8), 10)))\n",
        "ds_test = ds_raw_test.map(lambda x,y: (tf.cast(2*(x/255)-1, tf.float32), tf.one_hot(tf.cast(y, tf.uint8), 10)))\n",
        "\n",
        "# LoadUp\n",
        "ds_train = ds_train.batch(64).prefetch(64)\n",
        "ds_test = ds_test.batch(64).prefetch(64)"
      ],
      "execution_count": null,
      "outputs": []
    },
    {
      "cell_type": "markdown",
      "metadata": {
        "id": "KhJsdr31rc98"
      },
      "source": [
        "# 2 Model\n"
      ]
    },
    {
      "cell_type": "markdown",
      "metadata": {
        "id": "SaUZTPv1rfZa"
      },
      "source": [
        "## 2.1 ResNet\n",
        "\n",
        "Start with implementing a callable ResidualBlock class. \n",
        "Implement an init function defining the main building blocks: Your residual block should consist of multiple alterations of Convolution and Batch Normaliza-\n",
        "tion layers. You will need to make sure that the output of the block has the same dimensions as its input. \n",
        "\n",
        "Implement a call function."
      ]
    },
    {
      "cell_type": "markdown",
      "metadata": {
        "id": "VrAms4j_zq6K"
      },
      "source": [
        "Here, we define what is inside every residual Block. Every Block is constructed equally and all follow straight after each other. <br>\n",
        "Only separated by the information of the last block, which additionally gets added after the data ran through the current block \n",
        "\n",
        "- Every Block starts with a convolutional layer, whose filter- and kernelsize gets passed from the ResNet class\n"
      ]
    },
    {
      "cell_type": "code",
      "metadata": {
        "id": "r1LfvRUplYsc"
      },
      "source": [
        "class ResidualBlock(tf.keras.layers.Layer):\n",
        "  \"\"\"It's a block... and its residual... u know\"\"\"\n",
        "\n",
        "  def __init__(self, filterlist, kernel_sizes):\n",
        "    \"\"\"We define the properties of our residual Block. These are the layers that get skipped by the shortcut defined in the call function\"\"\"\n",
        "    super(ResidualBlock, self).__init__()\n",
        "\n",
        "    self.layers = []\n",
        "    for filter, kernel in zip(filterlist, kernel_sizes):\n",
        "      self.layers.append(tf.keras.layers.Conv2D(filter,kernel,padding='same', activation=None))\n",
        "      # , kernel_regularizer=tf.keras.regularizers.l2(1e-4)\n",
        "      self.layers.append(tf.keras.layers.BatchNormalization())\n",
        "      self.layers.append(tf.keras.layers.Activation(tf.keras.activations.relu))\n",
        "      \n",
        "     \n",
        "\n",
        "  @tf.function\n",
        "  def call(self, x, training=True):\n",
        "    \"\"\"We save the original input and call every layer in the block making sure that when calling batch normalization we also give the training boolean.\n",
        "    In the next step, we add an identity mapping by shortcuts, which is the core of our ResNet\"\"\"\n",
        "    y = x\n",
        "    # performed 162 times (6 Blocks * 3 Layers * 3 Blocks)\n",
        "    for i, layer in enumerate(self.layers):\n",
        "      #print(\"Layer: \", self.layers)\n",
        "      #print(i)\n",
        "      if i % 3 == 1:\n",
        "        y = layer(y, training)\n",
        "      else:\n",
        "        y = layer(y)\n",
        "\n",
        "    # y = self.conv(y)\n",
        "    # y = self.batchnorm(y, training)\n",
        "    # y = self.acti(y)\n",
        "\n",
        "    y = y+x\n",
        "    \n",
        "    return y"
      ],
      "execution_count": null,
      "outputs": []
    },
    {
      "cell_type": "markdown",
      "metadata": {
        "id": "hsv9FFRPiQbL"
      },
      "source": [
        "Implement a callable ResNet class, consisting of a convolutional layer followed by\n",
        "multiple Residual Blocks and an output layer. \n",
        "\n",
        "To further explore your networks behaviour, it might be convenient to implement\n",
        "it in a way that you can easily alter the number of Residual Blocks. \n",
        "\n",
        "Implement the networks call function."
      ]
    },
    {
      "cell_type": "markdown",
      "metadata": {
        "id": "po_pEzuQxiwz"
      },
      "source": [
        "- In the beginning a convolutional layer, through which all information passes; without any skipping or leftover\n",
        "- The main part consists of the residual Blocks\n",
        "> every residual Block consists of what is defined in the class \"ResidualBlock\" above\n",
        "- We use a pooling layer in the end, to reduce the spacital size of the representation in order to reduce the amount of parameters and therefore also computation in the network; Followed by an output layer"
      ]
    },
    {
      "cell_type": "code",
      "metadata": {
        "id": "Oml5knTtn-oa"
      },
      "source": [
        "class ResNet(tf.keras.Model):\n",
        "\n",
        "  def __init__(self,  num_blocks=6, filterlist=[128,128,64,64], kernel_sizes=[3,3,3,1]):\n",
        "    super(ResNet, self).__init__()\n",
        "\n",
        "    self.conv = tf.keras.layers.Conv2D(filters=64, kernel_size=3, padding='same')\n",
        "\n",
        "    self.blocks = []\n",
        "    for filter, kernel in zip([filterlist] * num_blocks, [kernel_sizes] * num_blocks):\n",
        "      self.blocks.append(ResidualBlock(filter, kernel))\n",
        "    \n",
        "    self.post_block = []\n",
        "\n",
        "    self.post_block.append(tf.keras.layers.GlobalAveragePooling2D())\n",
        "    self.post_block.append(tf.keras.layers.Dense(10, activation=tf.keras.activations.softmax))\n",
        "  \n",
        "\n",
        "  @tf.function\n",
        "  def call(self, x, training=True):\n",
        "    x = self.conv(x)\n",
        "    \n",
        "    for block in self.blocks:\n",
        "      x = block(x, training)\n",
        "      \n",
        "    for layer in self.post_block:\n",
        "      x = layer(x)\n",
        "\n",
        "    return x\n",
        "    "
      ],
      "execution_count": null,
      "outputs": []
    },
    {
      "cell_type": "markdown",
      "metadata": {
        "id": "AbXlTWiYrnWA"
      },
      "source": [
        "## 2.2 DenseNet\n",
        "\n",
        "Start with the Implementation of a callable class for your Transition Layers.\n",
        "> The Layer between two adjacent blocks; They change the feature map size and therefore decrease the channel depth"
      ]
    },
    {
      "cell_type": "code",
      "metadata": {
        "id": "w3ZvIpXYrqMU"
      },
      "source": [
        "class TransitionLayer(tf.keras.layers.Layer):\n",
        "\n",
        "  def __init__(self, filters=64):\n",
        "    super(TransitionLayer, self).__init__()\n",
        "    self.conv_1 = tf.keras.layers.Conv2D(filters= 3,\n",
        "                                       kernel_size = 1,\n",
        "                                       padding = 'same',\n",
        "                                       activation=None,\n",
        "#                                       kernel_regularizer=tf.keras.regularizers.l2(1e-4)\n",
        "                                       )\n",
        "    self.batch_norm_1 = tf.keras.layers.BatchNormalization()\n",
        "    self.activation_relu_1 = tf.keras.layers.Activation(tf.keras.activations.relu)\n",
        "\n",
        "    self.av_pool = tf.keras.layers.AveragePooling2D(strides=(2,2))\n",
        "\n",
        "\n",
        "\n",
        "  @tf.function\n",
        "  def call(self, x, training=True):\n",
        "\n",
        "    x = self.conv_1(x)\n",
        "    x = self.batch_norm_1(x, training)\n",
        "    x = self.activation_relu_1(x)\n",
        "\n",
        "    x = self.av_pool(x)\n",
        "\n",
        "    return x"
      ],
      "execution_count": null,
      "outputs": []
    },
    {
      "cell_type": "markdown",
      "metadata": {
        "id": "qMngeVn_ip48"
      },
      "source": [
        "You may want to implement a subclass Block containing the convolution layer and the concatenation implemented in the call function.\r\n",
        "\r\n",
        "> Here, we define what is inside every step of the Dense Block, such that we can call it multiple times to build a whole Dense Block.\r\n",
        "\r\n",
        "> Use concatenation to \"stack\" all the previous outputs onto all levels behind"
      ]
    },
    {
      "cell_type": "code",
      "metadata": {
        "id": "q2sgpgG-2QmK"
      },
      "source": [
        "class Block(tf.keras.layers.Layer):\n",
        "\n",
        "  def __init__(self, filter, kernel):\n",
        "    super(Block, self).__init__()\n",
        "\n",
        "    self.conv_1 = tf.keras.layers.Conv2D(filter,\n",
        "                                       kernel,\n",
        "                                       padding = 'same',\n",
        "                                       activation=None,\n",
        "    #                                   kernel_regularizer=tf.keras.regularizers.l2(1e-4)\n",
        "                                       )\n",
        "    self.batch_norm_1 = tf.keras.layers.BatchNormalization()\n",
        "    self.activation_relu_1 = tf.keras.layers.Activation(tf.keras.activations.relu)\n",
        "\n",
        "    self.concat = tf.keras.layers.Concatenate()\n",
        "  \n",
        "  \n",
        "  @tf.function\n",
        "  def call(self, x, training=True):\n",
        "    y = x\n",
        "        \n",
        "    y = self.conv_1(y)\n",
        "    y = self.batch_norm_1(y, training)\n",
        "    y = self.activation_relu_1(y)\n",
        "    y = self.concat([y,x])\n",
        "\n",
        "    return y"
      ],
      "execution_count": null,
      "outputs": []
    },
    {
      "cell_type": "markdown",
      "metadata": {
        "id": "QHQzVzBhikmC"
      },
      "source": [
        "Implement the Dense Block class. Remember, a Dense Block is a series of convolutions where the original input is concatenated with the output of the convolution\n",
        "operation. \n",
        "\n",
        "Implement your Dense Block class in a way that you can easily alter the number\n",
        "of Dense Blocks you want to use.\n",
        "\n",
        "> Now, build a class to define the whole Dense Block itself; Calling the \"Block\" class again to get what happens at every Layer in the Block"
      ]
    },
    {
      "cell_type": "code",
      "metadata": {
        "id": "uHNb6fzIzmbi"
      },
      "source": [
        "class DenseBlock(tf.keras.layers.Layer):\n",
        "\n",
        "  def __init__(self, filterlist=[64,128,128,32], kernel_sizes=[3,3,3,3]):\n",
        "    super(DenseBlock, self).__init__()\n",
        "\n",
        "    self.layers = []\n",
        "    for filter, kernel in zip(filterlist, kernel_sizes):\n",
        "      self.layers.append(Block(filter,kernel))\n",
        "\n",
        "\n",
        "  @tf.function\n",
        "  def call(self, x , training=True):\n",
        "\n",
        "    for layer in self.layers:\n",
        "      x = layer(x, training)\n",
        "      \n",
        "    return x\n"
      ],
      "execution_count": null,
      "outputs": []
    },
    {
      "cell_type": "markdown",
      "metadata": {
        "id": "ljr7Qhchi1Dw"
      },
      "source": [
        "Implement the DenseNet class.\n",
        "\n",
        "- You will want to have a set of layers before your Dense Blocks fixing the\n",
        "desired channel dimension you need to pass on to the Dense Blocks.\n",
        "- You will want to consecutively alter Dense Blocks and Transition Layers. \n",
        "Remember the use of the growth rate when creating the Transition Layer\n",
        "instances. \n",
        "- After the last Dense Block make sure to include a proper set of output layers.\n",
        "\n",
        "\n",
        "Implement the respective call function."
      ]
    },
    {
      "cell_type": "code",
      "metadata": {
        "id": "FsQif1LG_7oF"
      },
      "source": [
        "class DenseNet(tf.keras.Model):\n",
        "\n",
        "  def __init__(self, num_blocks=4):\n",
        "    super(DenseNet, self).__init__()\n",
        "\n",
        "    self.pre_conv = tf.keras.layers.Conv2D(filters = 64, kernel_size = 3, padding='same', activation=None, kernel_regularizer=tf.keras.regularizers.l2(1e-4))\n",
        "    self.pre_bn = tf.keras.layers.BatchNormalization()\n",
        "    self.pre_relu = tf.keras.layers.Activation(tf.keras.activations.relu)\n",
        "     \n",
        "    self.blocks = [DenseBlock()]\n",
        "    for block in range(num_blocks - 1):\n",
        "      self.blocks.append(TransitionLayer())\n",
        "      self.blocks.append(DenseBlock())\n",
        "      \n",
        "    self.post_bn = tf.keras.layers.BatchNormalization()\n",
        "    self.post_pool = tf.keras.layers.GlobalAveragePooling2D()\n",
        "    self.post_dense = tf.keras.layers.Dense(10, activation=tf.keras.activations.softmax)\n",
        "\n",
        "  \n",
        "  @tf.function\n",
        "  def call(self, x, training=True):\n",
        "    #print('start', x.shape)\n",
        "    x = self.pre_conv(x)\n",
        "    x = self.pre_bn(x, training)\n",
        "    x = self.pre_relu(x)\n",
        "    #print('after pre: ', x)\n",
        "    for block in self.blocks:\n",
        "      x = block(x, training)\n",
        "\n",
        "    x = self.post_bn(x, training)\n",
        "    x = self.post_pool(x)\n",
        "    x = self.post_dense(x)\n",
        "\n",
        "    return x\n"
      ],
      "execution_count": null,
      "outputs": []
    },
    {
      "cell_type": "markdown",
      "metadata": {
        "id": "h9MAsW0cwL-f"
      },
      "source": [
        "# 3 Training"
      ]
    },
    {
      "cell_type": "code",
      "metadata": {
        "id": "rjm8G0alwNxO"
      },
      "source": [
        "def train_step(model, input, target, loss_function, optimizer):\n",
        "  # loss_object and optimizer_object are instances of respective tensorflow classes\n",
        "  with tf.GradientTape() as tape:\n",
        "    prediction = model(input,training=True)\n",
        "    loss = loss_function(target, prediction) + tf.reduce_sum(model.losses)\n",
        "    accuracy = np.mean(np.argmax(target,axis=1)==np.argmax(prediction,axis=1))\n",
        "    gradients = tape.gradient(loss, model.trainable_variables)\n",
        "  optimizer.apply_gradients(zip(gradients, model.trainable_variables))\n",
        "  return loss, accuracy\n",
        "\n",
        "def test(model, test_data, loss_function):\n",
        "  # test over complete test data\n",
        "  test_accuracy_aggregator = []\n",
        "  test_loss_aggregator = []\n",
        "\n",
        "  \n",
        "  for (input, target) in test_data:\n",
        "    prediction = model(input,training=False)\n",
        "    sample_test_loss = loss_function(target, prediction)\n",
        "    sample_test_accuracy = np.mean(np.argmax(target,axis=1)==np.argmax(prediction,axis=1))\n",
        "    test_loss_aggregator.append(sample_test_loss.numpy())\n",
        "    test_accuracy_aggregator.append(np.mean(sample_test_accuracy))\n",
        "\n",
        "  test_loss = np.mean(test_loss_aggregator)\n",
        "  test_accuracy = np.mean(test_accuracy_aggregator)\n",
        "\n",
        "  return test_loss, test_accuracy"
      ],
      "execution_count": null,
      "outputs": []
    },
    {
      "cell_type": "code",
      "metadata": {
        "id": "Y3tfcq6qwPDm"
      },
      "source": [
        "def visualize(test_losses, train_losses, test_accuracies, train_accuracies):\n",
        "  \"\"\"This method first clears the output of the cell and then print out 2 plots. One for the test and training loop and one for the test accuracy.\n",
        "  When called in a for loop it kind of animates the progress within the for loop.\"\"\"\n",
        "  display.clear_output(wait=True)\n",
        "  fig, (ax1, ax2) = plt.subplots(1,2,figsize=(20,5))\n",
        "  fig.suptitle('Training')\n",
        "  ax1.title.set_text(\"Loss for training and test data\")\n",
        "  ax1.plot(test_losses, label='Test losses')\n",
        "  ax1.plot(train_losses, label='Train losses')\n",
        "  ax1.legend()\n",
        "  ax1.grid()\n",
        "\n",
        "  ax2.title.set_text(\"Performance on test data :\" + str(round(test_accuracies[-1] * 100, 2)) + \"%\\n Performance on training data :\"+ str(round(train_accuracies[-1] * 100, 2)) + \"%\")\n",
        "  ax2.plot(test_accuracies, label='Test accuracy')\n",
        "  ax2.plot(train_accuracies, label='Train accuracy')\n",
        "  ax2.legend()\n",
        "  ax2.grid()\n",
        "  plt.show()"
      ],
      "execution_count": null,
      "outputs": []
    },
    {
      "cell_type": "code",
      "metadata": {
        "id": "FvjFXImOwRFe"
      },
      "source": [
        "def train_model(model, num_epochs=10):\n",
        "\n",
        "  tf.keras.backend.clear_session()\n",
        "  \n",
        "  # Datasets\n",
        "  global ds_test\n",
        "  global ds_train\n",
        "  ### Hyperparameters\n",
        "  learning_rate = 0.0007\n",
        "  running_average_factor = 0.95\n",
        "  # Initialize the loss: Categorical Crossentropy. Check out 'tf.keras.losses'.\n",
        "  cross_entropy_loss = tf.keras.losses.CategoricalCrossentropy()\n",
        "  # Initialize the optimizer: Adam\n",
        "  optimizer = tf.keras.optimizers.Adam(learning_rate)\n",
        "\n",
        "  # Initialize lists for later visualization.\n",
        "  train_losses = []\n",
        "  train_accuracies = []\n",
        "  test_losses = []\n",
        "  test_accuracies = []\n",
        "  start = time.time()\n",
        "\n",
        "  #testing once before we begin\n",
        "  test_loss, test_accuracy = test(model, ds_test, cross_entropy_loss)\n",
        "  test_losses.append(test_loss)\n",
        "  test_accuracies.append(test_accuracy)\n",
        "  print(\"Accuracy on test data before any training: \", test_accuracy)\n",
        "  print(\"Loss on test data before any training: \", test_loss, \"\\n\")\n",
        "\n",
        "  #check how model performs on train data once before we begin\n",
        "  train_loss, train_accuracy = test(model, ds_train, cross_entropy_loss)\n",
        "  train_losses.append(train_loss)\n",
        "  train_accuracies.append(train_accuracy)\n",
        "\n",
        "  # We train for num_epochs epochs.\n",
        "  for epoch in range(num_epochs):\n",
        "      print('Currently running epoch: __ ' + str(epoch + 1))\n",
        "\n",
        "      ds_train = ds_train.shuffle(buffer_size=64).prefetch(tf.data.experimental.AUTOTUNE)\n",
        "      ds_test = ds_test.shuffle(buffer_size=64).prefetch(tf.data.experimental.AUTOTUNE)\n",
        "\n",
        "\n",
        "      #training (and checking in with training)\n",
        "      running_average_loss = 0\n",
        "      running_average_accuracy = 0\n",
        "      for (input,target) in ds_train:\n",
        "          train_loss, train_accuracy = train_step(model, input, target, cross_entropy_loss, optimizer)\n",
        "          running_average_loss = running_average_factor * running_average_loss  + (1 - running_average_factor) * train_loss\n",
        "          running_average_accuracy = running_average_factor * running_average_accuracy  + (1 - running_average_factor) * train_accuracy\n",
        "      train_losses.append(running_average_loss)\n",
        "      train_accuracies.append(running_average_accuracy)\n",
        "      # glimpse at performance during training\n",
        "      # print('Training accuracy: ' + str(train_accuracies[-1]))\n",
        "\n",
        "      #testing\n",
        "      test_loss, test_accuracy = test(model, ds_test, cross_entropy_loss)\n",
        "      test_losses.append(test_loss)\n",
        "      test_accuracies.append(test_accuracy)\n",
        "      # glimpse at performance after training, on test data\n",
        "      # print('Test accuracy: ' + str(test_accuracies[-1]))\n",
        "      \n",
        "      # glimpse at performance after training, on test data\n",
        "      visualize(test_losses, train_losses, test_accuracies, train_accuracies)\n",
        "      print('Elapsed time:  '+ str(round((time.time() - start), 2)) + ' s \\n')\n",
        "\n",
        "  model.summary()"
      ],
      "execution_count": null,
      "outputs": []
    },
    {
      "cell_type": "code",
      "metadata": {
        "colab": {
          "base_uri": "https://localhost:8080/",
          "height": 744
        },
        "id": "v1wFBLkbwkVG",
        "outputId": "50d58f94-abc1-44fe-99a3-2d59c4e71e41"
      },
      "source": [
        "train_model(ResNet(), 30)"
      ],
      "execution_count": null,
      "outputs": [
        {
          "output_type": "display_data",
          "data": {
            "image/png": "[encoded data removed]",
            "text/plain": [
              "<Figure size 1440x360 with 2 Axes>"
            ]
          },
          "metadata": {
            "tags": [],
            "needs_background": "light"
          }
        },
        {
          "output_type": "stream",
          "text": [
            "Elapsed time:  4566.4 s \n",
            "\n",
            "Model: \"res_net\"\n",
            "_________________________________________________________________\n",
            "Layer (type)                 Output Shape              Param #   \n",
            "=================================================================\n",
            "conv2d (Conv2D)              multiple                  1792      \n",
            "_________________________________________________________________\n",
            "residual_block (ResidualBloc multiple                  300928    \n",
            "_________________________________________________________________\n",
            "residual_block_1 (ResidualBl multiple                  300928    \n",
            "_________________________________________________________________\n",
            "residual_block_2 (ResidualBl multiple                  300928    \n",
            "_________________________________________________________________\n",
            "residual_block_3 (ResidualBl multiple                  300928    \n",
            "_________________________________________________________________\n",
            "residual_block_4 (ResidualBl multiple                  300928    \n",
            "_________________________________________________________________\n",
            "residual_block_5 (ResidualBl multiple                  300928    \n",
            "_________________________________________________________________\n",
            "global_average_pooling2d (Gl multiple                  0         \n",
            "_________________________________________________________________\n",
            "dense (Dense)                multiple                  650       \n",
            "=================================================================\n",
            "Total params: 1,808,010\n",
            "Trainable params: 1,803,402\n",
            "Non-trainable params: 4,608\n",
            "_________________________________________________________________\n"
          ],
          "name": "stdout"
        }
      ]
    },
    {
      "cell_type": "code",
      "metadata": {
        "colab": {
          "base_uri": "https://localhost:8080/",
          "height": 878
        },
        "id": "l0_d4jQax-YB",
        "outputId": "92057ec3-3658-4bfe-9090-22a6277a5e3c"
      },
      "source": [
        "train_model(DenseNet(), 25)"
      ],
      "execution_count": null,
      "outputs": [
        {
          "output_type": "display_data",
          "data": {
            "image/png": "[encoded data removed]",
            "text/plain": [
              "<Figure size 1440x360 with 2 Axes>"
            ]
          },
          "metadata": {
            "tags": [],
            "needs_background": "light"
          }
        },
        {
          "output_type": "stream",
          "text": [
            "Elapsed time:  2106.06 s \n",
            "\n",
            "Model: \"dense_net\"\n",
            "_________________________________________________________________\n",
            "Layer (type)                 Output Shape              Param #   \n",
            "=================================================================\n",
            "conv2d (Conv2D)              multiple                  1792      \n",
            "_________________________________________________________________\n",
            "batch_normalization (BatchNo multiple                  256       \n",
            "_________________________________________________________________\n",
            "activation (Activation)      multiple                  0         \n",
            "_________________________________________________________________\n",
            "dense_block (DenseBlock)     multiple                  591584    \n",
            "_________________________________________________________________\n",
            "transition_layer (Transition multiple                  1263      \n",
            "_________________________________________________________________\n",
            "dense_block_1 (DenseBlock)   multiple                  398336    \n",
            "_________________________________________________________________\n",
            "transition_layer_1 (Transiti multiple                  1080      \n",
            "_________________________________________________________________\n",
            "dense_block_2 (DenseBlock)   multiple                  398336    \n",
            "_________________________________________________________________\n",
            "transition_layer_2 (Transiti multiple                  1080      \n",
            "_________________________________________________________________\n",
            "dense_block_3 (DenseBlock)   multiple                  398336    \n",
            "_________________________________________________________________\n",
            "batch_normalization_20 (Batc multiple                  1420      \n",
            "_________________________________________________________________\n",
            "global_average_pooling2d (Gl multiple                  0         \n",
            "_________________________________________________________________\n",
            "dense (Dense)                multiple                  3560      \n",
            "=================================================================\n",
            "Total params: 1,797,043\n",
            "Trainable params: 1,793,371\n",
            "Non-trainable params: 3,672\n",
            "_________________________________________________________________\n"
          ],
          "name": "stdout"
        }
      ]
    },
    {
      "cell_type": "code",
      "metadata": {
        "id": "q1vgfP93w2OG"
      },
      "source": [
        ""
      ],
      "execution_count": null,
      "outputs": []
    }
  ]
}